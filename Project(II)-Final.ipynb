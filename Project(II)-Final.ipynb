{
 "cells": [
  {
   "cell_type": "code",
   "execution_count": 1,
   "id": "252d5379",
   "metadata": {},
   "outputs": [],
   "source": [
    "import numpy as np\n",
    "import pandas as pd\n",
    "import sklearn as sk"
   ]
  },
  {
   "cell_type": "code",
   "execution_count": 2,
   "id": "44602107",
   "metadata": {},
   "outputs": [],
   "source": [
    "df = pd.read_csv('data.csv')"
   ]
  },
  {
   "cell_type": "code",
   "execution_count": 3,
   "id": "46e6469b",
   "metadata": {
    "scrolled": false
   },
   "outputs": [
    {
     "data": {
      "text/html": [
       "<div>\n",
       "<style scoped>\n",
       "    .dataframe tbody tr th:only-of-type {\n",
       "        vertical-align: middle;\n",
       "    }\n",
       "\n",
       "    .dataframe tbody tr th {\n",
       "        vertical-align: top;\n",
       "    }\n",
       "\n",
       "    .dataframe thead th {\n",
       "        text-align: right;\n",
       "    }\n",
       "</style>\n",
       "<table border=\"1\" class=\"dataframe\">\n",
       "  <thead>\n",
       "    <tr style=\"text-align: right;\">\n",
       "      <th></th>\n",
       "      <th>Loan_ID</th>\n",
       "      <th>Gender</th>\n",
       "      <th>Married</th>\n",
       "      <th>Dependents</th>\n",
       "      <th>Education</th>\n",
       "      <th>Self_Employed</th>\n",
       "      <th>ApplicantIncome</th>\n",
       "      <th>CoapplicantIncome</th>\n",
       "      <th>LoanAmount</th>\n",
       "      <th>Loan_Amount_Term</th>\n",
       "      <th>Credit_History</th>\n",
       "      <th>property_Area</th>\n",
       "      <th>Loan_Status</th>\n",
       "    </tr>\n",
       "  </thead>\n",
       "  <tbody>\n",
       "    <tr>\n",
       "      <th>0</th>\n",
       "      <td>LP001002</td>\n",
       "      <td>Male</td>\n",
       "      <td>No</td>\n",
       "      <td>0</td>\n",
       "      <td>Graduate</td>\n",
       "      <td>No</td>\n",
       "      <td>5849.0</td>\n",
       "      <td>0.0</td>\n",
       "      <td>NaN</td>\n",
       "      <td>360.0</td>\n",
       "      <td>1.0</td>\n",
       "      <td>Urban</td>\n",
       "      <td>Y</td>\n",
       "    </tr>\n",
       "    <tr>\n",
       "      <th>1</th>\n",
       "      <td>LP001003</td>\n",
       "      <td>Male</td>\n",
       "      <td>Yes</td>\n",
       "      <td>1</td>\n",
       "      <td>Graduate</td>\n",
       "      <td>No</td>\n",
       "      <td>NaN</td>\n",
       "      <td>1508.0</td>\n",
       "      <td>128.0</td>\n",
       "      <td>360.0</td>\n",
       "      <td>1.0</td>\n",
       "      <td>Rural</td>\n",
       "      <td>N</td>\n",
       "    </tr>\n",
       "    <tr>\n",
       "      <th>2</th>\n",
       "      <td>LP001005</td>\n",
       "      <td>Male</td>\n",
       "      <td>Yes</td>\n",
       "      <td>0</td>\n",
       "      <td>Graduate</td>\n",
       "      <td>Yes</td>\n",
       "      <td>3000.0</td>\n",
       "      <td>0.0</td>\n",
       "      <td>66.0</td>\n",
       "      <td>360.0</td>\n",
       "      <td>1.0</td>\n",
       "      <td>Urban</td>\n",
       "      <td>Y</td>\n",
       "    </tr>\n",
       "  </tbody>\n",
       "</table>\n",
       "</div>"
      ],
      "text/plain": [
       "    Loan_ID Gender Married Dependents Education Self_Employed  \\\n",
       "0  LP001002   Male      No          0  Graduate            No   \n",
       "1  LP001003   Male     Yes          1  Graduate            No   \n",
       "2  LP001005   Male     Yes          0  Graduate           Yes   \n",
       "\n",
       "   ApplicantIncome  CoapplicantIncome  LoanAmount  Loan_Amount_Term  \\\n",
       "0           5849.0                0.0         NaN             360.0   \n",
       "1              NaN             1508.0       128.0             360.0   \n",
       "2           3000.0                0.0        66.0             360.0   \n",
       "\n",
       "   Credit_History property_Area Loan_Status  \n",
       "0             1.0         Urban           Y  \n",
       "1             1.0         Rural           N  \n",
       "2             1.0         Urban           Y  "
      ]
     },
     "execution_count": 3,
     "metadata": {},
     "output_type": "execute_result"
    }
   ],
   "source": [
    "# Seeing data:\n",
    "\n",
    "df.head(3)"
   ]
  },
  {
   "cell_type": "code",
   "execution_count": 4,
   "id": "7c7a49e3",
   "metadata": {},
   "outputs": [
    {
     "data": {
      "text/plain": [
       "(614, 13)"
      ]
     },
     "execution_count": 4,
     "metadata": {},
     "output_type": "execute_result"
    }
   ],
   "source": [
    "df.shape"
   ]
  },
  {
   "cell_type": "code",
   "execution_count": 5,
   "id": "af07932d",
   "metadata": {},
   "outputs": [
    {
     "data": {
      "text/html": [
       "<div>\n",
       "<style scoped>\n",
       "    .dataframe tbody tr th:only-of-type {\n",
       "        vertical-align: middle;\n",
       "    }\n",
       "\n",
       "    .dataframe tbody tr th {\n",
       "        vertical-align: top;\n",
       "    }\n",
       "\n",
       "    .dataframe thead th {\n",
       "        text-align: right;\n",
       "    }\n",
       "</style>\n",
       "<table border=\"1\" class=\"dataframe\">\n",
       "  <thead>\n",
       "    <tr style=\"text-align: right;\">\n",
       "      <th></th>\n",
       "      <th>ApplicantIncome</th>\n",
       "      <th>CoapplicantIncome</th>\n",
       "      <th>LoanAmount</th>\n",
       "      <th>Loan_Amount_Term</th>\n",
       "      <th>Credit_History</th>\n",
       "    </tr>\n",
       "  </thead>\n",
       "  <tbody>\n",
       "    <tr>\n",
       "      <th>ApplicantIncome</th>\n",
       "      <td>1.000000</td>\n",
       "      <td>-0.116677</td>\n",
       "      <td>0.570893</td>\n",
       "      <td>-0.045213</td>\n",
       "      <td>-0.014548</td>\n",
       "    </tr>\n",
       "    <tr>\n",
       "      <th>CoapplicantIncome</th>\n",
       "      <td>-0.116677</td>\n",
       "      <td>1.000000</td>\n",
       "      <td>0.188700</td>\n",
       "      <td>-0.059917</td>\n",
       "      <td>-0.002153</td>\n",
       "    </tr>\n",
       "    <tr>\n",
       "      <th>LoanAmount</th>\n",
       "      <td>0.570893</td>\n",
       "      <td>0.188700</td>\n",
       "      <td>1.000000</td>\n",
       "      <td>0.039447</td>\n",
       "      <td>-0.008433</td>\n",
       "    </tr>\n",
       "    <tr>\n",
       "      <th>Loan_Amount_Term</th>\n",
       "      <td>-0.045213</td>\n",
       "      <td>-0.059917</td>\n",
       "      <td>0.039447</td>\n",
       "      <td>1.000000</td>\n",
       "      <td>0.001470</td>\n",
       "    </tr>\n",
       "    <tr>\n",
       "      <th>Credit_History</th>\n",
       "      <td>-0.014548</td>\n",
       "      <td>-0.002153</td>\n",
       "      <td>-0.008433</td>\n",
       "      <td>0.001470</td>\n",
       "      <td>1.000000</td>\n",
       "    </tr>\n",
       "  </tbody>\n",
       "</table>\n",
       "</div>"
      ],
      "text/plain": [
       "                   ApplicantIncome  CoapplicantIncome  LoanAmount  \\\n",
       "ApplicantIncome           1.000000          -0.116677    0.570893   \n",
       "CoapplicantIncome        -0.116677           1.000000    0.188700   \n",
       "LoanAmount                0.570893           0.188700    1.000000   \n",
       "Loan_Amount_Term         -0.045213          -0.059917    0.039447   \n",
       "Credit_History           -0.014548          -0.002153   -0.008433   \n",
       "\n",
       "                   Loan_Amount_Term  Credit_History  \n",
       "ApplicantIncome           -0.045213       -0.014548  \n",
       "CoapplicantIncome         -0.059917       -0.002153  \n",
       "LoanAmount                 0.039447       -0.008433  \n",
       "Loan_Amount_Term           1.000000        0.001470  \n",
       "Credit_History             0.001470        1.000000  "
      ]
     },
     "execution_count": 5,
     "metadata": {},
     "output_type": "execute_result"
    }
   ],
   "source": [
    "# Dropping non essential Catagory Loan_ID\n",
    "\n",
    "df = df.drop(columns=['Loan_ID'])\n",
    "df.corr()\n",
    "\n",
    "# This is when I realized I need to Change my catagorical Features to numerical ones."
   ]
  },
  {
   "cell_type": "code",
   "execution_count": 6,
   "id": "15912c3d",
   "metadata": {},
   "outputs": [
    {
     "data": {
      "text/plain": [
       "(614, 12)"
      ]
     },
     "execution_count": 6,
     "metadata": {},
     "output_type": "execute_result"
    }
   ],
   "source": [
    "# shape before dropping instances:\n",
    "start = len(df.index)\n",
    "df.shape"
   ]
  },
  {
   "cell_type": "code",
   "execution_count": 7,
   "id": "5d7a192f",
   "metadata": {
    "scrolled": true
   },
   "outputs": [
    {
     "data": {
      "text/plain": [
       "(476, 12)"
      ]
     },
     "execution_count": 7,
     "metadata": {},
     "output_type": "execute_result"
    }
   ],
   "source": [
    "# dropping instances with ANY missing values. NEW SHAPE\n",
    "\n",
    "df = df.dropna()\n",
    "df.shape"
   ]
  },
  {
   "cell_type": "code",
   "execution_count": 8,
   "id": "1d30888a",
   "metadata": {},
   "outputs": [
    {
     "name": "stdout",
     "output_type": "stream",
     "text": [
      "Dropped  22.475570032573287 % of Data Frame.\n"
     ]
    }
   ],
   "source": [
    "# Weighing whether I should drop the values or not:\n",
    "\n",
    "end = len(df.index)\n",
    "percentDropped = (float)(100*(1 - (end/start)))\n",
    "print(\"Dropped \", percentDropped, \"% of Data Frame.\")"
   ]
  },
  {
   "cell_type": "markdown",
   "id": "ea5c979e",
   "metadata": {},
   "source": [
    "# Initial Feature Engineering:"
   ]
  },
  {
   "cell_type": "code",
   "execution_count": 9,
   "id": "68465d29",
   "metadata": {
    "scrolled": false
   },
   "outputs": [
    {
     "data": {
      "text/html": [
       "<div>\n",
       "<style scoped>\n",
       "    .dataframe tbody tr th:only-of-type {\n",
       "        vertical-align: middle;\n",
       "    }\n",
       "\n",
       "    .dataframe tbody tr th {\n",
       "        vertical-align: top;\n",
       "    }\n",
       "\n",
       "    .dataframe thead th {\n",
       "        text-align: right;\n",
       "    }\n",
       "</style>\n",
       "<table border=\"1\" class=\"dataframe\">\n",
       "  <thead>\n",
       "    <tr style=\"text-align: right;\">\n",
       "      <th></th>\n",
       "      <th>ApplicantIncome</th>\n",
       "      <th>CoapplicantIncome</th>\n",
       "      <th>LoanAmount</th>\n",
       "      <th>Loan_Amount_Term</th>\n",
       "      <th>Credit_History</th>\n",
       "      <th>Gender_Female</th>\n",
       "      <th>Gender_Male</th>\n",
       "      <th>Married_No</th>\n",
       "      <th>Married_Yes</th>\n",
       "      <th>Dependents_0</th>\n",
       "      <th>...</th>\n",
       "      <th>Dependents_3+</th>\n",
       "      <th>Education_Graduate</th>\n",
       "      <th>Education_Not Graduate</th>\n",
       "      <th>Self_Employed_No</th>\n",
       "      <th>Self_Employed_Yes</th>\n",
       "      <th>property_Area_Rural</th>\n",
       "      <th>property_Area_Semiurban</th>\n",
       "      <th>property_Area_Urban</th>\n",
       "      <th>Loan_Status_N</th>\n",
       "      <th>Loan_Status_Y</th>\n",
       "    </tr>\n",
       "  </thead>\n",
       "  <tbody>\n",
       "    <tr>\n",
       "      <th>2</th>\n",
       "      <td>3000.0</td>\n",
       "      <td>0.0</td>\n",
       "      <td>66.0</td>\n",
       "      <td>360.0</td>\n",
       "      <td>1.0</td>\n",
       "      <td>0</td>\n",
       "      <td>1</td>\n",
       "      <td>0</td>\n",
       "      <td>1</td>\n",
       "      <td>1</td>\n",
       "      <td>...</td>\n",
       "      <td>0</td>\n",
       "      <td>1</td>\n",
       "      <td>0</td>\n",
       "      <td>0</td>\n",
       "      <td>1</td>\n",
       "      <td>0</td>\n",
       "      <td>0</td>\n",
       "      <td>1</td>\n",
       "      <td>0</td>\n",
       "      <td>1</td>\n",
       "    </tr>\n",
       "    <tr>\n",
       "      <th>3</th>\n",
       "      <td>2583.0</td>\n",
       "      <td>2358.0</td>\n",
       "      <td>120.0</td>\n",
       "      <td>360.0</td>\n",
       "      <td>1.0</td>\n",
       "      <td>0</td>\n",
       "      <td>1</td>\n",
       "      <td>0</td>\n",
       "      <td>1</td>\n",
       "      <td>1</td>\n",
       "      <td>...</td>\n",
       "      <td>0</td>\n",
       "      <td>0</td>\n",
       "      <td>1</td>\n",
       "      <td>1</td>\n",
       "      <td>0</td>\n",
       "      <td>0</td>\n",
       "      <td>0</td>\n",
       "      <td>1</td>\n",
       "      <td>0</td>\n",
       "      <td>1</td>\n",
       "    </tr>\n",
       "    <tr>\n",
       "      <th>4</th>\n",
       "      <td>6000.0</td>\n",
       "      <td>0.0</td>\n",
       "      <td>141.0</td>\n",
       "      <td>360.0</td>\n",
       "      <td>1.0</td>\n",
       "      <td>0</td>\n",
       "      <td>1</td>\n",
       "      <td>1</td>\n",
       "      <td>0</td>\n",
       "      <td>1</td>\n",
       "      <td>...</td>\n",
       "      <td>0</td>\n",
       "      <td>1</td>\n",
       "      <td>0</td>\n",
       "      <td>1</td>\n",
       "      <td>0</td>\n",
       "      <td>0</td>\n",
       "      <td>0</td>\n",
       "      <td>1</td>\n",
       "      <td>0</td>\n",
       "      <td>1</td>\n",
       "    </tr>\n",
       "  </tbody>\n",
       "</table>\n",
       "<p>3 rows × 22 columns</p>\n",
       "</div>"
      ],
      "text/plain": [
       "   ApplicantIncome  CoapplicantIncome  LoanAmount  Loan_Amount_Term  \\\n",
       "2           3000.0                0.0        66.0             360.0   \n",
       "3           2583.0             2358.0       120.0             360.0   \n",
       "4           6000.0                0.0       141.0             360.0   \n",
       "\n",
       "   Credit_History  Gender_Female  Gender_Male  Married_No  Married_Yes  \\\n",
       "2             1.0              0            1           0            1   \n",
       "3             1.0              0            1           0            1   \n",
       "4             1.0              0            1           1            0   \n",
       "\n",
       "   Dependents_0  ...  Dependents_3+  Education_Graduate  \\\n",
       "2             1  ...              0                   1   \n",
       "3             1  ...              0                   0   \n",
       "4             1  ...              0                   1   \n",
       "\n",
       "   Education_Not Graduate  Self_Employed_No  Self_Employed_Yes  \\\n",
       "2                       0                 0                  1   \n",
       "3                       1                 1                  0   \n",
       "4                       0                 1                  0   \n",
       "\n",
       "   property_Area_Rural  property_Area_Semiurban  property_Area_Urban  \\\n",
       "2                    0                        0                    1   \n",
       "3                    0                        0                    1   \n",
       "4                    0                        0                    1   \n",
       "\n",
       "   Loan_Status_N  Loan_Status_Y  \n",
       "2              0              1  \n",
       "3              0              1  \n",
       "4              0              1  \n",
       "\n",
       "[3 rows x 22 columns]"
      ]
     },
     "execution_count": 9,
     "metadata": {},
     "output_type": "execute_result"
    }
   ],
   "source": [
    "# Getting numerical Features in place of all the categoricals\n",
    "\n",
    "df = pd.get_dummies(df)\n",
    "df.head(3)"
   ]
  },
  {
   "cell_type": "code",
   "execution_count": 10,
   "id": "13d89821",
   "metadata": {},
   "outputs": [
    {
     "data": {
      "text/plain": [
       "(476, 22)"
      ]
     },
     "execution_count": 10,
     "metadata": {},
     "output_type": "execute_result"
    }
   ],
   "source": [
    "# NEW SHAPE\n",
    "\n",
    "df.shape"
   ]
  },
  {
   "cell_type": "code",
   "execution_count": 11,
   "id": "ff73204e",
   "metadata": {},
   "outputs": [],
   "source": [
    "# Dimensionality Reduction, Both applic. and coApplic. have SAME correlation values AKA equal scalar magnitude.\n",
    "\n",
    "df['Income'] = df['ApplicantIncome'] + df['CoapplicantIncome']"
   ]
  },
  {
   "cell_type": "markdown",
   "id": "af4ea373",
   "metadata": {},
   "source": [
    "This is where I made the realization that each dummy catagory has both positive AND NEGATIVE correlations and I need to scale them by both. So instead of t=1 f=0 I realize the change I needed to make was t=1 f=-1"
   ]
  },
  {
   "cell_type": "code",
   "execution_count": 12,
   "id": "cdfd998c",
   "metadata": {},
   "outputs": [
    {
     "data": {
      "text/plain": [
       "ApplicantIncome           -0.043324\n",
       "CoapplicantIncome         -0.049885\n",
       "LoanAmount                -0.075056\n",
       "Loan_Amount_Term          -0.008123\n",
       "Credit_History             0.531317\n",
       "Gender_Female             -0.064307\n",
       "Gender_Male                0.064307\n",
       "Married_No                -0.115302\n",
       "Married_Yes                0.115302\n",
       "Dependents_0              -0.024744\n",
       "Dependents_1              -0.031813\n",
       "Dependents_2               0.067500\n",
       "Dependents_3+             -0.005482\n",
       "Education_Graduate         0.068230\n",
       "Education_Not Graduate    -0.068230\n",
       "Self_Employed_No           0.038754\n",
       "Self_Employed_Yes         -0.038754\n",
       "property_Area_Rural       -0.104051\n",
       "property_Area_Semiurban    0.157574\n",
       "property_Area_Urban       -0.064988\n",
       "Loan_Status_N             -1.000000\n",
       "Loan_Status_Y              1.000000\n",
       "Income                    -0.062999\n",
       "Name: Loan_Status_Y, dtype: float64"
      ]
     },
     "execution_count": 12,
     "metadata": {},
     "output_type": "execute_result"
    }
   ],
   "source": [
    "# Printing Correlation Values for all Features.\n",
    "\n",
    "corr = df[df.columns[0:]].corr()['Loan_Status_Y'][:]\n",
    "corr"
   ]
  },
  {
   "cell_type": "code",
   "execution_count": 13,
   "id": "6f7cfd1c",
   "metadata": {},
   "outputs": [
    {
     "data": {
      "text/plain": [
       "dtype('float64')"
      ]
     },
     "execution_count": 13,
     "metadata": {},
     "output_type": "execute_result"
    }
   ],
   "source": [
    "# experimenting with this, wanted to see what type this is: dataframe? array? \n",
    "\n",
    "corr.dtype"
   ]
  },
  {
   "cell_type": "code",
   "execution_count": 14,
   "id": "b3a49009",
   "metadata": {},
   "outputs": [
    {
     "name": "stdout",
     "output_type": "stream",
     "text": [
      "minimum correlation:  0.038754033542204684\n"
     ]
    }
   ],
   "source": [
    "#setting a mincorr coefficient scalar for feature values correlated to 'Status'\n",
    "positiveCorrelationsOnly = corr[corr > 0]\n",
    "    \n",
    "mincorr = positiveCorrelationsOnly.min()\n",
    "print(\"minimum correlation: \", mincorr)"
   ]
  },
  {
   "cell_type": "markdown",
   "id": "abe3cc75",
   "metadata": {},
   "source": [
    "# Most of the Feature Engineering:"
   ]
  },
  {
   "cell_type": "code",
   "execution_count": 15,
   "id": "ee3cf0f9",
   "metadata": {},
   "outputs": [],
   "source": [
    "# Rename:\n",
    "\n",
    "df['Married'] = df['Married_Yes']\n",
    "df['Rural'] = df['property_Area_Rural']\n",
    "df['Semi Urb'] = df['property_Area_Semiurban']\n",
    "df['Urb'] = df['property_Area_Urban']\n",
    "df['do'] = df['Dependents_0']\n",
    "df['d1'] = df['Dependents_1']\n",
    "df['d2'] = df['Dependents_2']\n",
    "df['d3'] = df['Dependents_3+']\n",
    "df['Status'] = df['Loan_Status_Y']\n",
    "df['Term Length'] = df['Loan_Amount_Term']\n",
    "df['Credit'] = df['Credit_History']"
   ]
  },
  {
   "cell_type": "code",
   "execution_count": 16,
   "id": "b0871d62",
   "metadata": {},
   "outputs": [],
   "source": [
    "# Re-Parameterize:\n",
    "\n",
    "df['Married'] = [1 if x == 1 else -1 for x in df['Married']]\n",
    "df['Credit'] = [1 if x == 1 else -1 for x in df['Credit']]\n",
    "df['Education_Not Graduate'] = [-1 if x == 1 else 0 for x in df['Education_Not Graduate']]\n",
    "df['Income'] = [1 if x > df['Income'].median() else -1 for x in df['Income']]\n",
    "df['Self_Employed_No'] = [-1 if x == 1 else 0 for x in df['Self_Employed_No']]\n",
    "df['Term Length'] = [1 if x == 360 else .5 for x in df['Term Length']]\n",
    "df['Gender'] = [1 if x==1 else -1 for x in df['Gender_Male']]\n",
    "df['Status'] = [1 if x == 1 else -1 for x in df['Status']]"
   ]
  },
  {
   "cell_type": "code",
   "execution_count": 17,
   "id": "8334996b",
   "metadata": {},
   "outputs": [],
   "source": [
    "# Reducing Dimension:\n",
    "df['Grad'] = df['Education_Graduate'] + df['Education_Not Graduate']\n",
    "df['Business Owner'] = df['Self_Employed_Yes'] + df['Self_Employed_No']"
   ]
  },
  {
   "cell_type": "code",
   "execution_count": 18,
   "id": "e6d76e56",
   "metadata": {},
   "outputs": [],
   "source": [
    "# Define Individual Feature Correlations:\n",
    "\n",
    "s = \"Status\"\n",
    "marriedCorr = df['Married_Yes'].corr(df[s])\n",
    "creditCorr = df['Credit'].corr(df[s])\n",
    "educationCorr = df['Education_Graduate'].corr(df[s])\n",
    "ruralCorr = df['Rural'].corr(df[s])\n",
    "semiUrbCorr = df['Semi Urb'].corr(df[s])\n",
    "urbanCorr = df['Urb'].corr(df[s])\n",
    "genderCorr = df['Gender'].corr(df[s])\n",
    "docorr = df['do'].corr(df[s])\n",
    "d1corr = df['d1'].corr(df[s])\n",
    "d2corr = df['d2'].corr(df[s])\n",
    "d3corr = df['d3'].corr(df[s])\n",
    "incomeCorr = df['Income'].corr(df[s])\n",
    "businessOwnerCorr = df['Business Owner'].corr(df[s])\n",
    "termLengthCorr = df['Term Length'].corr(df[s])"
   ]
  },
  {
   "cell_type": "code",
   "execution_count": 19,
   "id": "c2e09386",
   "metadata": {},
   "outputs": [],
   "source": [
    "# Delete OLD features whose names' are TOO LONG:\n",
    "\n",
    "del df['Married_Yes']\n",
    "del df['Married_No']\n",
    "del df['Education_Not Graduate']\n",
    "del df['Education_Graduate']\n",
    "del df['property_Area_Rural']\n",
    "del df['property_Area_Semiurban']\n",
    "del df['property_Area_Urban']\n",
    "del df['Dependents_0']\n",
    "del df['Dependents_1']\n",
    "del df['Dependents_2']\n",
    "del df['Dependents_3+']\n",
    "del df['Self_Employed_Yes']\n",
    "del df['Self_Employed_No']\n",
    "del df['LoanAmount']\n",
    "del df['Loan_Status_N']\n",
    "del df['Loan_Status_Y']\n",
    "del df['Gender_Female']\n",
    "del df['Gender_Male']\n",
    "del df['Loan_Amount_Term']\n",
    "del df['Credit_History']\n",
    "del df['ApplicantIncome']\n",
    "del df['CoapplicantIncome']"
   ]
  },
  {
   "cell_type": "code",
   "execution_count": 20,
   "id": "c623c0fa",
   "metadata": {
    "scrolled": true
   },
   "outputs": [],
   "source": [
    "# Compute New Values of features scaled by mincorrelation:\n",
    "\n",
    "df['Married'] = df['Married'] * (marriedCorr / mincorr)\n",
    "df['Credit'] = df['Credit'] * (creditCorr / mincorr)\n",
    "df['Grad'] = df['Grad'] * (educationCorr / mincorr)\n",
    "df['Rural'] = df['Rural'] * (ruralCorr / mincorr)\n",
    "df['Semi Urb'] = df['Semi Urb'] * (semiUrbCorr / mincorr)\n",
    "df['Urb'] = df['Urb'] * (urbanCorr / mincorr)\n",
    "df['Gender'] = df['Gender'] * (genderCorr / mincorr)\n",
    "df['do'] = df['do'] * (docorr / mincorr)\n",
    "df['d1'] = df['d1'] * (d1corr / mincorr)\n",
    "df['d2'] = df['d2'] * (d2corr / mincorr)\n",
    "df['d3'] = df['d3'] * (d3corr / mincorr)\n",
    "df['Income'] = df['Income'] * (incomeCorr / mincorr)\n",
    "df['Business Owner'] = df['Business Owner'] * (businessOwnerCorr / mincorr)\n",
    "df['Term Length'] = df['Term Length'] * (termLengthCorr / mincorr)"
   ]
  },
  {
   "cell_type": "code",
   "execution_count": 21,
   "id": "ad748a4a",
   "metadata": {},
   "outputs": [],
   "source": [
    "# More Dimension Reduction: Combining all Dependents into df['W2']\n",
    "\n",
    "df['W2'] = df['do'] + df['d1'] + df['d2'] +df['d3']\n",
    "\n",
    "# Dimensional Reduction:\n",
    "\n",
    "del df['do']\n",
    "del df['d1']\n",
    "del df['d2']\n",
    "del df['d3']"
   ]
  },
  {
   "cell_type": "code",
   "execution_count": 22,
   "id": "4bd336e0",
   "metadata": {},
   "outputs": [
    {
     "data": {
      "text/html": [
       "<div>\n",
       "<style scoped>\n",
       "    .dataframe tbody tr th:only-of-type {\n",
       "        vertical-align: middle;\n",
       "    }\n",
       "\n",
       "    .dataframe tbody tr th {\n",
       "        vertical-align: top;\n",
       "    }\n",
       "\n",
       "    .dataframe thead th {\n",
       "        text-align: right;\n",
       "    }\n",
       "</style>\n",
       "<table border=\"1\" class=\"dataframe\">\n",
       "  <thead>\n",
       "    <tr style=\"text-align: right;\">\n",
       "      <th></th>\n",
       "      <th>Income</th>\n",
       "      <th>Married</th>\n",
       "      <th>Rural</th>\n",
       "      <th>Semi Urb</th>\n",
       "      <th>Urb</th>\n",
       "      <th>Status</th>\n",
       "      <th>Term Length</th>\n",
       "      <th>Credit</th>\n",
       "      <th>Gender</th>\n",
       "      <th>Grad</th>\n",
       "      <th>Business Owner</th>\n",
       "      <th>W2</th>\n",
       "    </tr>\n",
       "  </thead>\n",
       "  <tbody>\n",
       "    <tr>\n",
       "      <th>2</th>\n",
       "      <td>-0.352004</td>\n",
       "      <td>2.975238</td>\n",
       "      <td>-0.0</td>\n",
       "      <td>0.000</td>\n",
       "      <td>-1.676927</td>\n",
       "      <td>1</td>\n",
       "      <td>2.56333</td>\n",
       "      <td>13.709972</td>\n",
       "      <td>1.659376</td>\n",
       "      <td>1.760601</td>\n",
       "      <td>-1.0</td>\n",
       "      <td>-0.638478</td>\n",
       "    </tr>\n",
       "    <tr>\n",
       "      <th>3</th>\n",
       "      <td>-0.352004</td>\n",
       "      <td>2.975238</td>\n",
       "      <td>-0.0</td>\n",
       "      <td>0.000</td>\n",
       "      <td>-1.676927</td>\n",
       "      <td>1</td>\n",
       "      <td>2.56333</td>\n",
       "      <td>13.709972</td>\n",
       "      <td>1.659376</td>\n",
       "      <td>-1.760601</td>\n",
       "      <td>1.0</td>\n",
       "      <td>-0.638478</td>\n",
       "    </tr>\n",
       "    <tr>\n",
       "      <th>4</th>\n",
       "      <td>0.352004</td>\n",
       "      <td>-2.975238</td>\n",
       "      <td>-0.0</td>\n",
       "      <td>0.000</td>\n",
       "      <td>-1.676927</td>\n",
       "      <td>1</td>\n",
       "      <td>2.56333</td>\n",
       "      <td>13.709972</td>\n",
       "      <td>1.659376</td>\n",
       "      <td>1.760601</td>\n",
       "      <td>1.0</td>\n",
       "      <td>-0.638478</td>\n",
       "    </tr>\n",
       "    <tr>\n",
       "      <th>6</th>\n",
       "      <td>-0.352004</td>\n",
       "      <td>2.975238</td>\n",
       "      <td>-0.0</td>\n",
       "      <td>0.000</td>\n",
       "      <td>-1.676927</td>\n",
       "      <td>1</td>\n",
       "      <td>2.56333</td>\n",
       "      <td>13.709972</td>\n",
       "      <td>1.659376</td>\n",
       "      <td>-1.760601</td>\n",
       "      <td>1.0</td>\n",
       "      <td>-0.638478</td>\n",
       "    </tr>\n",
       "    <tr>\n",
       "      <th>7</th>\n",
       "      <td>0.352004</td>\n",
       "      <td>2.975238</td>\n",
       "      <td>-0.0</td>\n",
       "      <td>4.066</td>\n",
       "      <td>-0.000000</td>\n",
       "      <td>-1</td>\n",
       "      <td>2.56333</td>\n",
       "      <td>-13.709972</td>\n",
       "      <td>1.659376</td>\n",
       "      <td>1.760601</td>\n",
       "      <td>1.0</td>\n",
       "      <td>-0.141454</td>\n",
       "    </tr>\n",
       "  </tbody>\n",
       "</table>\n",
       "</div>"
      ],
      "text/plain": [
       "     Income   Married  Rural  Semi Urb       Urb  Status  Term Length  \\\n",
       "2 -0.352004  2.975238   -0.0     0.000 -1.676927       1      2.56333   \n",
       "3 -0.352004  2.975238   -0.0     0.000 -1.676927       1      2.56333   \n",
       "4  0.352004 -2.975238   -0.0     0.000 -1.676927       1      2.56333   \n",
       "6 -0.352004  2.975238   -0.0     0.000 -1.676927       1      2.56333   \n",
       "7  0.352004  2.975238   -0.0     4.066 -0.000000      -1      2.56333   \n",
       "\n",
       "      Credit    Gender      Grad  Business Owner        W2  \n",
       "2  13.709972  1.659376  1.760601            -1.0 -0.638478  \n",
       "3  13.709972  1.659376 -1.760601             1.0 -0.638478  \n",
       "4  13.709972  1.659376  1.760601             1.0 -0.638478  \n",
       "6  13.709972  1.659376 -1.760601             1.0 -0.638478  \n",
       "7 -13.709972  1.659376  1.760601             1.0 -0.141454  "
      ]
     },
     "execution_count": 22,
     "metadata": {},
     "output_type": "execute_result"
    }
   ],
   "source": [
    "df.head(5)"
   ]
  },
  {
   "cell_type": "code",
   "execution_count": 23,
   "id": "7b0ac69e",
   "metadata": {
    "scrolled": false
   },
   "outputs": [
    {
     "data": {
      "text/html": [
       "<div>\n",
       "<style scoped>\n",
       "    .dataframe tbody tr th:only-of-type {\n",
       "        vertical-align: middle;\n",
       "    }\n",
       "\n",
       "    .dataframe tbody tr th {\n",
       "        vertical-align: top;\n",
       "    }\n",
       "\n",
       "    .dataframe thead th {\n",
       "        text-align: right;\n",
       "    }\n",
       "</style>\n",
       "<table border=\"1\" class=\"dataframe\">\n",
       "  <thead>\n",
       "    <tr style=\"text-align: right;\">\n",
       "      <th></th>\n",
       "      <th>Income</th>\n",
       "      <th>Married</th>\n",
       "      <th>Rural</th>\n",
       "      <th>Semi Urb</th>\n",
       "      <th>Urb</th>\n",
       "      <th>Term Length</th>\n",
       "      <th>Credit</th>\n",
       "      <th>Gender</th>\n",
       "      <th>Grad</th>\n",
       "      <th>Business Owner</th>\n",
       "      <th>W2</th>\n",
       "      <th>Target</th>\n",
       "    </tr>\n",
       "  </thead>\n",
       "  <tbody>\n",
       "    <tr>\n",
       "      <th>2</th>\n",
       "      <td>-0.352004</td>\n",
       "      <td>2.975238</td>\n",
       "      <td>-0.00000</td>\n",
       "      <td>0.000</td>\n",
       "      <td>-1.676927</td>\n",
       "      <td>2.563330</td>\n",
       "      <td>13.709972</td>\n",
       "      <td>1.659376</td>\n",
       "      <td>1.760601</td>\n",
       "      <td>-1.0</td>\n",
       "      <td>-0.638478</td>\n",
       "      <td>1</td>\n",
       "    </tr>\n",
       "    <tr>\n",
       "      <th>3</th>\n",
       "      <td>-0.352004</td>\n",
       "      <td>2.975238</td>\n",
       "      <td>-0.00000</td>\n",
       "      <td>0.000</td>\n",
       "      <td>-1.676927</td>\n",
       "      <td>2.563330</td>\n",
       "      <td>13.709972</td>\n",
       "      <td>1.659376</td>\n",
       "      <td>-1.760601</td>\n",
       "      <td>1.0</td>\n",
       "      <td>-0.638478</td>\n",
       "      <td>1</td>\n",
       "    </tr>\n",
       "    <tr>\n",
       "      <th>4</th>\n",
       "      <td>0.352004</td>\n",
       "      <td>-2.975238</td>\n",
       "      <td>-0.00000</td>\n",
       "      <td>0.000</td>\n",
       "      <td>-1.676927</td>\n",
       "      <td>2.563330</td>\n",
       "      <td>13.709972</td>\n",
       "      <td>1.659376</td>\n",
       "      <td>1.760601</td>\n",
       "      <td>1.0</td>\n",
       "      <td>-0.638478</td>\n",
       "      <td>1</td>\n",
       "    </tr>\n",
       "    <tr>\n",
       "      <th>6</th>\n",
       "      <td>-0.352004</td>\n",
       "      <td>2.975238</td>\n",
       "      <td>-0.00000</td>\n",
       "      <td>0.000</td>\n",
       "      <td>-1.676927</td>\n",
       "      <td>2.563330</td>\n",
       "      <td>13.709972</td>\n",
       "      <td>1.659376</td>\n",
       "      <td>-1.760601</td>\n",
       "      <td>1.0</td>\n",
       "      <td>-0.638478</td>\n",
       "      <td>1</td>\n",
       "    </tr>\n",
       "    <tr>\n",
       "      <th>7</th>\n",
       "      <td>0.352004</td>\n",
       "      <td>2.975238</td>\n",
       "      <td>-0.00000</td>\n",
       "      <td>4.066</td>\n",
       "      <td>-0.000000</td>\n",
       "      <td>2.563330</td>\n",
       "      <td>-13.709972</td>\n",
       "      <td>1.659376</td>\n",
       "      <td>1.760601</td>\n",
       "      <td>1.0</td>\n",
       "      <td>-0.141454</td>\n",
       "      <td>-1</td>\n",
       "    </tr>\n",
       "    <tr>\n",
       "      <th>9</th>\n",
       "      <td>0.352004</td>\n",
       "      <td>2.975238</td>\n",
       "      <td>-0.00000</td>\n",
       "      <td>4.066</td>\n",
       "      <td>-0.000000</td>\n",
       "      <td>2.563330</td>\n",
       "      <td>13.709972</td>\n",
       "      <td>1.659376</td>\n",
       "      <td>1.760601</td>\n",
       "      <td>1.0</td>\n",
       "      <td>-0.820898</td>\n",
       "      <td>-1</td>\n",
       "    </tr>\n",
       "    <tr>\n",
       "      <th>10</th>\n",
       "      <td>-0.352004</td>\n",
       "      <td>2.975238</td>\n",
       "      <td>-0.00000</td>\n",
       "      <td>0.000</td>\n",
       "      <td>-1.676927</td>\n",
       "      <td>2.563330</td>\n",
       "      <td>13.709972</td>\n",
       "      <td>1.659376</td>\n",
       "      <td>1.760601</td>\n",
       "      <td>1.0</td>\n",
       "      <td>1.741759</td>\n",
       "      <td>1</td>\n",
       "    </tr>\n",
       "    <tr>\n",
       "      <th>12</th>\n",
       "      <td>0.352004</td>\n",
       "      <td>2.975238</td>\n",
       "      <td>-0.00000</td>\n",
       "      <td>0.000</td>\n",
       "      <td>-1.676927</td>\n",
       "      <td>2.563330</td>\n",
       "      <td>13.709972</td>\n",
       "      <td>1.659376</td>\n",
       "      <td>1.760601</td>\n",
       "      <td>1.0</td>\n",
       "      <td>1.741759</td>\n",
       "      <td>1</td>\n",
       "    </tr>\n",
       "    <tr>\n",
       "      <th>13</th>\n",
       "      <td>-0.352004</td>\n",
       "      <td>-2.975238</td>\n",
       "      <td>-2.68492</td>\n",
       "      <td>0.000</td>\n",
       "      <td>-0.000000</td>\n",
       "      <td>2.563330</td>\n",
       "      <td>13.709972</td>\n",
       "      <td>1.659376</td>\n",
       "      <td>1.760601</td>\n",
       "      <td>1.0</td>\n",
       "      <td>-0.638478</td>\n",
       "      <td>-1</td>\n",
       "    </tr>\n",
       "    <tr>\n",
       "      <th>14</th>\n",
       "      <td>-0.352004</td>\n",
       "      <td>2.975238</td>\n",
       "      <td>-0.00000</td>\n",
       "      <td>0.000</td>\n",
       "      <td>-1.676927</td>\n",
       "      <td>1.281665</td>\n",
       "      <td>13.709972</td>\n",
       "      <td>1.659376</td>\n",
       "      <td>1.760601</td>\n",
       "      <td>1.0</td>\n",
       "      <td>1.741759</td>\n",
       "      <td>1</td>\n",
       "    </tr>\n",
       "    <tr>\n",
       "      <th>17</th>\n",
       "      <td>-0.352004</td>\n",
       "      <td>-2.975238</td>\n",
       "      <td>-0.00000</td>\n",
       "      <td>0.000</td>\n",
       "      <td>-1.676927</td>\n",
       "      <td>2.563330</td>\n",
       "      <td>-13.709972</td>\n",
       "      <td>-1.659376</td>\n",
       "      <td>1.760601</td>\n",
       "      <td>1.0</td>\n",
       "      <td>-0.638478</td>\n",
       "      <td>-1</td>\n",
       "    </tr>\n",
       "    <tr>\n",
       "      <th>18</th>\n",
       "      <td>-0.352004</td>\n",
       "      <td>2.975238</td>\n",
       "      <td>-2.68492</td>\n",
       "      <td>0.000</td>\n",
       "      <td>-0.000000</td>\n",
       "      <td>2.563330</td>\n",
       "      <td>13.709972</td>\n",
       "      <td>1.659376</td>\n",
       "      <td>-1.760601</td>\n",
       "      <td>1.0</td>\n",
       "      <td>-0.638478</td>\n",
       "      <td>-1</td>\n",
       "    </tr>\n",
       "  </tbody>\n",
       "</table>\n",
       "</div>"
      ],
      "text/plain": [
       "      Income   Married    Rural  Semi Urb       Urb  Term Length     Credit  \\\n",
       "2  -0.352004  2.975238 -0.00000     0.000 -1.676927     2.563330  13.709972   \n",
       "3  -0.352004  2.975238 -0.00000     0.000 -1.676927     2.563330  13.709972   \n",
       "4   0.352004 -2.975238 -0.00000     0.000 -1.676927     2.563330  13.709972   \n",
       "6  -0.352004  2.975238 -0.00000     0.000 -1.676927     2.563330  13.709972   \n",
       "7   0.352004  2.975238 -0.00000     4.066 -0.000000     2.563330 -13.709972   \n",
       "9   0.352004  2.975238 -0.00000     4.066 -0.000000     2.563330  13.709972   \n",
       "10 -0.352004  2.975238 -0.00000     0.000 -1.676927     2.563330  13.709972   \n",
       "12  0.352004  2.975238 -0.00000     0.000 -1.676927     2.563330  13.709972   \n",
       "13 -0.352004 -2.975238 -2.68492     0.000 -0.000000     2.563330  13.709972   \n",
       "14 -0.352004  2.975238 -0.00000     0.000 -1.676927     1.281665  13.709972   \n",
       "17 -0.352004 -2.975238 -0.00000     0.000 -1.676927     2.563330 -13.709972   \n",
       "18 -0.352004  2.975238 -2.68492     0.000 -0.000000     2.563330  13.709972   \n",
       "\n",
       "      Gender      Grad  Business Owner        W2  Target  \n",
       "2   1.659376  1.760601            -1.0 -0.638478       1  \n",
       "3   1.659376 -1.760601             1.0 -0.638478       1  \n",
       "4   1.659376  1.760601             1.0 -0.638478       1  \n",
       "6   1.659376 -1.760601             1.0 -0.638478       1  \n",
       "7   1.659376  1.760601             1.0 -0.141454      -1  \n",
       "9   1.659376  1.760601             1.0 -0.820898      -1  \n",
       "10  1.659376  1.760601             1.0  1.741759       1  \n",
       "12  1.659376  1.760601             1.0  1.741759       1  \n",
       "13  1.659376  1.760601             1.0 -0.638478      -1  \n",
       "14  1.659376  1.760601             1.0  1.741759       1  \n",
       "17 -1.659376  1.760601             1.0 -0.638478      -1  \n",
       "18  1.659376 -1.760601             1.0 -0.638478      -1  "
      ]
     },
     "execution_count": 23,
     "metadata": {},
     "output_type": "execute_result"
    }
   ],
   "source": [
    "# Making Sure Target Feature is at End of dataframe:\n",
    "\n",
    "df['Target'] = df['Status']\n",
    "del df['Status']\n",
    "df.head(12)"
   ]
  },
  {
   "cell_type": "code",
   "execution_count": 24,
   "id": "389a618e",
   "metadata": {},
   "outputs": [
    {
     "name": "stdout",
     "output_type": "stream",
     "text": [
      "df.shape =  (476, 12)\n"
     ]
    }
   ],
   "source": [
    "print(\"df.shape = \", df.shape)"
   ]
  },
  {
   "cell_type": "markdown",
   "id": "dc62a7b9",
   "metadata": {},
   "source": [
    "# Splitting Data"
   ]
  },
  {
   "cell_type": "code",
   "execution_count": 25,
   "id": "15677c1d",
   "metadata": {},
   "outputs": [
    {
     "name": "stdout",
     "output_type": "stream",
     "text": [
      "Training Size:  4660 \n",
      "Testing Size:  -4184 \n",
      "len(df) =  476\n"
     ]
    }
   ],
   "source": [
    "# Because I removed rows with missing values, I used 85% for training and 15%for testing.\n",
    "\n",
    "normalTrainingPercent80 = .8\n",
    "additionalPercentTraining = percentDropped * .4\n",
    "trnsz = (int)(len(df) * (normalTrainingPercent80 + additionalPercentTraining))\n",
    "tstsz = len(df) - trnsz\n",
    "print(\"Training Size: \", trnsz, \"\\nTesting Size: \", tstsz, \"\\nlen(df) = \", len(df))"
   ]
  },
  {
   "cell_type": "code",
   "execution_count": 26,
   "id": "29ce439c",
   "metadata": {},
   "outputs": [],
   "source": [
    "# Splitting data:\n",
    "\n",
    "X = df.iloc[:,:11]\n",
    "Y = df.iloc[:,11]"
   ]
  },
  {
   "cell_type": "code",
   "execution_count": 27,
   "id": "b100b06b",
   "metadata": {},
   "outputs": [
    {
     "data": {
      "text/html": [
       "<div>\n",
       "<style scoped>\n",
       "    .dataframe tbody tr th:only-of-type {\n",
       "        vertical-align: middle;\n",
       "    }\n",
       "\n",
       "    .dataframe tbody tr th {\n",
       "        vertical-align: top;\n",
       "    }\n",
       "\n",
       "    .dataframe thead th {\n",
       "        text-align: right;\n",
       "    }\n",
       "</style>\n",
       "<table border=\"1\" class=\"dataframe\">\n",
       "  <thead>\n",
       "    <tr style=\"text-align: right;\">\n",
       "      <th></th>\n",
       "      <th>Income</th>\n",
       "      <th>Married</th>\n",
       "      <th>Rural</th>\n",
       "      <th>Semi Urb</th>\n",
       "      <th>Urb</th>\n",
       "      <th>Term Length</th>\n",
       "      <th>Credit</th>\n",
       "      <th>Gender</th>\n",
       "      <th>Grad</th>\n",
       "      <th>Business Owner</th>\n",
       "      <th>W2</th>\n",
       "    </tr>\n",
       "  </thead>\n",
       "  <tbody>\n",
       "    <tr>\n",
       "      <th>2</th>\n",
       "      <td>-0.352004</td>\n",
       "      <td>2.975238</td>\n",
       "      <td>-0.0</td>\n",
       "      <td>0.0</td>\n",
       "      <td>-1.676927</td>\n",
       "      <td>2.56333</td>\n",
       "      <td>13.709972</td>\n",
       "      <td>1.659376</td>\n",
       "      <td>1.760601</td>\n",
       "      <td>-1.0</td>\n",
       "      <td>-0.638478</td>\n",
       "    </tr>\n",
       "    <tr>\n",
       "      <th>3</th>\n",
       "      <td>-0.352004</td>\n",
       "      <td>2.975238</td>\n",
       "      <td>-0.0</td>\n",
       "      <td>0.0</td>\n",
       "      <td>-1.676927</td>\n",
       "      <td>2.56333</td>\n",
       "      <td>13.709972</td>\n",
       "      <td>1.659376</td>\n",
       "      <td>-1.760601</td>\n",
       "      <td>1.0</td>\n",
       "      <td>-0.638478</td>\n",
       "    </tr>\n",
       "    <tr>\n",
       "      <th>4</th>\n",
       "      <td>0.352004</td>\n",
       "      <td>-2.975238</td>\n",
       "      <td>-0.0</td>\n",
       "      <td>0.0</td>\n",
       "      <td>-1.676927</td>\n",
       "      <td>2.56333</td>\n",
       "      <td>13.709972</td>\n",
       "      <td>1.659376</td>\n",
       "      <td>1.760601</td>\n",
       "      <td>1.0</td>\n",
       "      <td>-0.638478</td>\n",
       "    </tr>\n",
       "  </tbody>\n",
       "</table>\n",
       "</div>"
      ],
      "text/plain": [
       "     Income   Married  Rural  Semi Urb       Urb  Term Length     Credit  \\\n",
       "2 -0.352004  2.975238   -0.0       0.0 -1.676927      2.56333  13.709972   \n",
       "3 -0.352004  2.975238   -0.0       0.0 -1.676927      2.56333  13.709972   \n",
       "4  0.352004 -2.975238   -0.0       0.0 -1.676927      2.56333  13.709972   \n",
       "\n",
       "     Gender      Grad  Business Owner        W2  \n",
       "2  1.659376  1.760601            -1.0 -0.638478  \n",
       "3  1.659376 -1.760601             1.0 -0.638478  \n",
       "4  1.659376  1.760601             1.0 -0.638478  "
      ]
     },
     "execution_count": 27,
     "metadata": {},
     "output_type": "execute_result"
    }
   ],
   "source": [
    "X.head(3)"
   ]
  },
  {
   "cell_type": "code",
   "execution_count": 28,
   "id": "4869c7ca",
   "metadata": {},
   "outputs": [
    {
     "data": {
      "text/plain": [
       "2    1\n",
       "3    1\n",
       "4    1\n",
       "Name: Target, dtype: int64"
      ]
     },
     "execution_count": 28,
     "metadata": {},
     "output_type": "execute_result"
    }
   ],
   "source": [
    "Y.head(3)"
   ]
  },
  {
   "cell_type": "code",
   "execution_count": 29,
   "id": "71a7299b",
   "metadata": {},
   "outputs": [],
   "source": [
    "# Splitting training data:\n",
    "\n",
    "xtrn = X.iloc[:trnsz]\n",
    "ytrn = Y.iloc[:trnsz]"
   ]
  },
  {
   "cell_type": "code",
   "execution_count": 30,
   "id": "78e86e1e",
   "metadata": {},
   "outputs": [],
   "source": [
    "# Splitting testing data: \n",
    "\n",
    "xtst = X.iloc[trnsz:len(X.columns)]\n",
    "ytst = Y.iloc[trnsz:]"
   ]
  },
  {
   "cell_type": "markdown",
   "id": "7decde6d",
   "metadata": {},
   "source": [
    "# Training Classifier"
   ]
  },
  {
   "cell_type": "code",
   "execution_count": 31,
   "id": "ee14f5f1",
   "metadata": {},
   "outputs": [],
   "source": [
    "# Initializing a Classifier model from sklearn.linear_model\n",
    "\n",
    "from sklearn.linear_model import SGDClassifier\n",
    "cl = SGDClassifier(random_state=42)\n"
   ]
  },
  {
   "cell_type": "code",
   "execution_count": 32,
   "id": "6c834ce9",
   "metadata": {},
   "outputs": [
    {
     "data": {
      "text/plain": [
       "SGDClassifier(random_state=42)"
      ]
     },
     "execution_count": 32,
     "metadata": {},
     "output_type": "execute_result"
    }
   ],
   "source": [
    "# Fitting the data to my model (training):\n",
    "\n",
    "cl.fit(xtrn, ytrn)"
   ]
  },
  {
   "cell_type": "code",
   "execution_count": 33,
   "id": "180b2813",
   "metadata": {},
   "outputs": [
    {
     "name": "stdout",
     "output_type": "stream",
     "text": [
      "'4'-Fold Cross Validation:\n",
      "\n",
      "Mean Accuracy:  0.7184873949579831\n"
     ]
    }
   ],
   "source": [
    "# Printing Mean accuracy with k-fold cross validation:\n",
    "\n",
    "from sklearn.model_selection import cross_val_score\n",
    "print(\"'4'-Fold Cross Validation:\\n\\nMean Accuracy: \", cross_val_score(cl, xtrn, ytrn, cv=4, scoring='accuracy').mean())"
   ]
  },
  {
   "cell_type": "code",
   "execution_count": 34,
   "id": "1006b87b",
   "metadata": {},
   "outputs": [],
   "source": [
    "# Creating a prediction using my model and the training data both x & y:\n",
    "\n",
    "from sklearn.model_selection import cross_val_predict\n",
    "ypred = cross_val_predict(cl, xtrn, ytrn, cv=4)"
   ]
  },
  {
   "cell_type": "code",
   "execution_count": 35,
   "id": "c32ffae8",
   "metadata": {
    "scrolled": true
   },
   "outputs": [
    {
     "data": {
      "text/plain": [
       "array([[ 73,  74],\n",
       "       [ 60, 269]], dtype=int64)"
      ]
     },
     "execution_count": 35,
     "metadata": {},
     "output_type": "execute_result"
    }
   ],
   "source": [
    "# Confusion Matrix for TRAINING:\n",
    "from sklearn.metrics import confusion_matrix\n",
    "\n",
    "confusion_matrix(ytrn, ypred)"
   ]
  },
  {
   "cell_type": "markdown",
   "id": "8a9a34d8",
   "metadata": {},
   "source": [
    "# Testing Model"
   ]
  },
  {
   "cell_type": "code",
   "execution_count": 36,
   "id": "a3be4ddf",
   "metadata": {
    "scrolled": true
   },
   "outputs": [
    {
     "ename": "ValueError",
     "evalue": "Found array with 0 sample(s) (shape=(0, 11)) while a minimum of 1 is required.",
     "output_type": "error",
     "traceback": [
      "\u001b[1;31m---------------------------------------------------------------------------\u001b[0m",
      "\u001b[1;31mValueError\u001b[0m                                Traceback (most recent call last)",
      "Cell \u001b[1;32mIn [36], line 3\u001b[0m\n\u001b[0;32m      1\u001b[0m \u001b[38;5;66;03m# final is the same as ypred, except now I am using my model on TEST DATA:\u001b[39;00m\n\u001b[1;32m----> 3\u001b[0m final \u001b[38;5;241m=\u001b[39m \u001b[43mcl\u001b[49m\u001b[38;5;241;43m.\u001b[39;49m\u001b[43mpredict\u001b[49m\u001b[43m(\u001b[49m\u001b[43mxtst\u001b[49m\u001b[43m)\u001b[49m\n\u001b[0;32m      4\u001b[0m confusion_matrix(ytst, final)\n",
      "File \u001b[1;32m~\\anaconda3\\lib\\site-packages\\sklearn\\linear_model\\_base.py:425\u001b[0m, in \u001b[0;36mLinearClassifierMixin.predict\u001b[1;34m(self, X)\u001b[0m\n\u001b[0;32m    411\u001b[0m \u001b[38;5;28;01mdef\u001b[39;00m \u001b[38;5;21mpredict\u001b[39m(\u001b[38;5;28mself\u001b[39m, X):\n\u001b[0;32m    412\u001b[0m     \u001b[38;5;124;03m\"\"\"\u001b[39;00m\n\u001b[0;32m    413\u001b[0m \u001b[38;5;124;03m    Predict class labels for samples in X.\u001b[39;00m\n\u001b[0;32m    414\u001b[0m \n\u001b[1;32m   (...)\u001b[0m\n\u001b[0;32m    423\u001b[0m \u001b[38;5;124;03m        Vector containing the class labels for each sample.\u001b[39;00m\n\u001b[0;32m    424\u001b[0m \u001b[38;5;124;03m    \"\"\"\u001b[39;00m\n\u001b[1;32m--> 425\u001b[0m     scores \u001b[38;5;241m=\u001b[39m \u001b[38;5;28;43mself\u001b[39;49m\u001b[38;5;241;43m.\u001b[39;49m\u001b[43mdecision_function\u001b[49m\u001b[43m(\u001b[49m\u001b[43mX\u001b[49m\u001b[43m)\u001b[49m\n\u001b[0;32m    426\u001b[0m     \u001b[38;5;28;01mif\u001b[39;00m \u001b[38;5;28mlen\u001b[39m(scores\u001b[38;5;241m.\u001b[39mshape) \u001b[38;5;241m==\u001b[39m \u001b[38;5;241m1\u001b[39m:\n\u001b[0;32m    427\u001b[0m         indices \u001b[38;5;241m=\u001b[39m (scores \u001b[38;5;241m>\u001b[39m \u001b[38;5;241m0\u001b[39m)\u001b[38;5;241m.\u001b[39mastype(\u001b[38;5;28mint\u001b[39m)\n",
      "File \u001b[1;32m~\\anaconda3\\lib\\site-packages\\sklearn\\linear_model\\_base.py:407\u001b[0m, in \u001b[0;36mLinearClassifierMixin.decision_function\u001b[1;34m(self, X)\u001b[0m\n\u001b[0;32m    387\u001b[0m \u001b[38;5;124;03m\"\"\"\u001b[39;00m\n\u001b[0;32m    388\u001b[0m \u001b[38;5;124;03mPredict confidence scores for samples.\u001b[39;00m\n\u001b[0;32m    389\u001b[0m \n\u001b[1;32m   (...)\u001b[0m\n\u001b[0;32m    403\u001b[0m \u001b[38;5;124;03m    this class would be predicted.\u001b[39;00m\n\u001b[0;32m    404\u001b[0m \u001b[38;5;124;03m\"\"\"\u001b[39;00m\n\u001b[0;32m    405\u001b[0m check_is_fitted(\u001b[38;5;28mself\u001b[39m)\n\u001b[1;32m--> 407\u001b[0m X \u001b[38;5;241m=\u001b[39m \u001b[38;5;28;43mself\u001b[39;49m\u001b[38;5;241;43m.\u001b[39;49m\u001b[43m_validate_data\u001b[49m\u001b[43m(\u001b[49m\u001b[43mX\u001b[49m\u001b[43m,\u001b[49m\u001b[43m \u001b[49m\u001b[43maccept_sparse\u001b[49m\u001b[38;5;241;43m=\u001b[39;49m\u001b[38;5;124;43m\"\u001b[39;49m\u001b[38;5;124;43mcsr\u001b[39;49m\u001b[38;5;124;43m\"\u001b[39;49m\u001b[43m,\u001b[49m\u001b[43m \u001b[49m\u001b[43mreset\u001b[49m\u001b[38;5;241;43m=\u001b[39;49m\u001b[38;5;28;43;01mFalse\u001b[39;49;00m\u001b[43m)\u001b[49m\n\u001b[0;32m    408\u001b[0m scores \u001b[38;5;241m=\u001b[39m safe_sparse_dot(X, \u001b[38;5;28mself\u001b[39m\u001b[38;5;241m.\u001b[39mcoef_\u001b[38;5;241m.\u001b[39mT, dense_output\u001b[38;5;241m=\u001b[39m\u001b[38;5;28;01mTrue\u001b[39;00m) \u001b[38;5;241m+\u001b[39m \u001b[38;5;28mself\u001b[39m\u001b[38;5;241m.\u001b[39mintercept_\n\u001b[0;32m    409\u001b[0m \u001b[38;5;28;01mreturn\u001b[39;00m scores\u001b[38;5;241m.\u001b[39mravel() \u001b[38;5;28;01mif\u001b[39;00m scores\u001b[38;5;241m.\u001b[39mshape[\u001b[38;5;241m1\u001b[39m] \u001b[38;5;241m==\u001b[39m \u001b[38;5;241m1\u001b[39m \u001b[38;5;28;01melse\u001b[39;00m scores\n",
      "File \u001b[1;32m~\\anaconda3\\lib\\site-packages\\sklearn\\base.py:566\u001b[0m, in \u001b[0;36mBaseEstimator._validate_data\u001b[1;34m(self, X, y, reset, validate_separately, **check_params)\u001b[0m\n\u001b[0;32m    564\u001b[0m     \u001b[38;5;28;01mraise\u001b[39;00m \u001b[38;5;167;01mValueError\u001b[39;00m(\u001b[38;5;124m\"\u001b[39m\u001b[38;5;124mValidation should be done on X, y or both.\u001b[39m\u001b[38;5;124m\"\u001b[39m)\n\u001b[0;32m    565\u001b[0m \u001b[38;5;28;01melif\u001b[39;00m \u001b[38;5;129;01mnot\u001b[39;00m no_val_X \u001b[38;5;129;01mand\u001b[39;00m no_val_y:\n\u001b[1;32m--> 566\u001b[0m     X \u001b[38;5;241m=\u001b[39m check_array(X, \u001b[38;5;241m*\u001b[39m\u001b[38;5;241m*\u001b[39mcheck_params)\n\u001b[0;32m    567\u001b[0m     out \u001b[38;5;241m=\u001b[39m X\n\u001b[0;32m    568\u001b[0m \u001b[38;5;28;01melif\u001b[39;00m no_val_X \u001b[38;5;129;01mand\u001b[39;00m \u001b[38;5;129;01mnot\u001b[39;00m no_val_y:\n",
      "File \u001b[1;32m~\\anaconda3\\lib\\site-packages\\sklearn\\utils\\validation.py:805\u001b[0m, in \u001b[0;36mcheck_array\u001b[1;34m(array, accept_sparse, accept_large_sparse, dtype, order, copy, force_all_finite, ensure_2d, allow_nd, ensure_min_samples, ensure_min_features, estimator)\u001b[0m\n\u001b[0;32m    803\u001b[0m     n_samples \u001b[38;5;241m=\u001b[39m _num_samples(array)\n\u001b[0;32m    804\u001b[0m     \u001b[38;5;28;01mif\u001b[39;00m n_samples \u001b[38;5;241m<\u001b[39m ensure_min_samples:\n\u001b[1;32m--> 805\u001b[0m         \u001b[38;5;28;01mraise\u001b[39;00m \u001b[38;5;167;01mValueError\u001b[39;00m(\n\u001b[0;32m    806\u001b[0m             \u001b[38;5;124m\"\u001b[39m\u001b[38;5;124mFound array with \u001b[39m\u001b[38;5;132;01m%d\u001b[39;00m\u001b[38;5;124m sample(s) (shape=\u001b[39m\u001b[38;5;132;01m%s\u001b[39;00m\u001b[38;5;124m) while a\u001b[39m\u001b[38;5;124m\"\u001b[39m\n\u001b[0;32m    807\u001b[0m             \u001b[38;5;124m\"\u001b[39m\u001b[38;5;124m minimum of \u001b[39m\u001b[38;5;132;01m%d\u001b[39;00m\u001b[38;5;124m is required\u001b[39m\u001b[38;5;132;01m%s\u001b[39;00m\u001b[38;5;124m.\u001b[39m\u001b[38;5;124m\"\u001b[39m\n\u001b[0;32m    808\u001b[0m             \u001b[38;5;241m%\u001b[39m (n_samples, array\u001b[38;5;241m.\u001b[39mshape, ensure_min_samples, context)\n\u001b[0;32m    809\u001b[0m         )\n\u001b[0;32m    811\u001b[0m \u001b[38;5;28;01mif\u001b[39;00m ensure_min_features \u001b[38;5;241m>\u001b[39m \u001b[38;5;241m0\u001b[39m \u001b[38;5;129;01mand\u001b[39;00m array\u001b[38;5;241m.\u001b[39mndim \u001b[38;5;241m==\u001b[39m \u001b[38;5;241m2\u001b[39m:\n\u001b[0;32m    812\u001b[0m     n_features \u001b[38;5;241m=\u001b[39m array\u001b[38;5;241m.\u001b[39mshape[\u001b[38;5;241m1\u001b[39m]\n",
      "\u001b[1;31mValueError\u001b[0m: Found array with 0 sample(s) (shape=(0, 11)) while a minimum of 1 is required."
     ]
    }
   ],
   "source": [
    "# final is the same as ypred, except now I am using my model on TEST DATA:\n",
    "\n",
    "final = cl.predict(xtst)\n",
    "confusion_matrix(ytst, final)"
   ]
  },
  {
   "cell_type": "code",
   "execution_count": null,
   "id": "47177987",
   "metadata": {},
   "outputs": [],
   "source": [
    "# Printing Results:\n",
    "\n",
    "from sklearn.metrics import recall_score, precision_score\n",
    "prec = precision_score(ytst, final)\n",
    "recall = recall_score(ytst, final)\n",
    "acc = cl.score(xtst, ytst)\n",
    "\n",
    "print(\"\\tTesting:\\n\\n\", \"Precision = \", prec, \"\\nRecall = \", recall, \"\\nAccuracy = \", acc)"
   ]
  }
 ],
 "metadata": {
  "kernelspec": {
   "display_name": "Python 3 (ipykernel)",
   "language": "python",
   "name": "python3"
  },
  "language_info": {
   "codemirror_mode": {
    "name": "ipython",
    "version": 3
   },
   "file_extension": ".py",
   "mimetype": "text/x-python",
   "name": "python",
   "nbconvert_exporter": "python",
   "pygments_lexer": "ipython3",
   "version": "3.9.15"
  }
 },
 "nbformat": 4,
 "nbformat_minor": 5
}
